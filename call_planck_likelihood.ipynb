{
 "cells": [
  {
   "cell_type": "code",
   "execution_count": 1,
   "metadata": {},
   "outputs": [],
   "source": [
    "# to read cobaya input files\n",
    "from cobaya.yaml import yaml_load_file, yaml_load\n",
    "\n",
    "# to run the sampler/minimizer\n",
    "from cobaya.run import run as cobayaRun\n",
    "# to call CAMB from Cobaya\n",
    "from cobaya.model import get_model\n",
    "\n",
    "# to load MCMC chains\n",
    "from getdist import loadMCSamples, plots\n",
    "\n",
    "# to analyze the chains\n",
    "# from getdist.mcsamples import MCSamplesFromCobaya\n",
    "%matplotlib inline\n",
    "import matplotlib.pyplot as plt\n",
    "import getdist.plots as gdplt\n",
    "\n",
    "import sys\n",
    "\n",
    "import numpy as np"
   ]
  },
  {
   "cell_type": "markdown",
   "metadata": {},
   "source": [
    "# Try to call the Planck likelihood"
   ]
  },
  {
   "cell_type": "code",
   "execution_count": 2,
   "metadata": {
    "jupyter": {
     "source_hidden": true
    }
   },
   "outputs": [],
   "source": [
    "# info = yaml_load(\"\"\"\n",
    "# theory:\n",
    "#   camb:\n",
    "#     extra_args:\n",
    "#       halofit_version: mead\n",
    "#       bbn_predictor: PArthENoPE_880.2_standard.dat\n",
    "#       lens_potential_accuracy: 1\n",
    "#       num_massive_neutrinos: 1\n",
    "#       nnu: 3.046\n",
    "#       theta_H0_range:\n",
    "#       - 20\n",
    "#       - 100\n",
    "# likelihood:\n",
    "#   planck_2018_lowl.TT: null\n",
    "#   planck_2018_lowl.EE: null\n",
    "#   planck_2018_highl_plik.TTTEEE: null\n",
    "#   planck_2018_lensing.clik: null\n",
    "# params:\n",
    "#   logA:\n",
    "#     prior:\n",
    "#       min: 1.61\n",
    "#       max: 3.91\n",
    "#     ref:\n",
    "#       dist: norm\n",
    "#       loc: 3.05\n",
    "#       scale: 0.001\n",
    "#     proposal: 0.001\n",
    "#     latex: \\log(10^{10} A_\\mathrm{s})\n",
    "#     drop: true\n",
    "#   As:\n",
    "#     value: 'lambda logA: 1e-10*np.exp(logA)'\n",
    "#     latex: A_\\mathrm{s}\n",
    "#   ns:\n",
    "#     prior:\n",
    "#       min: 0.8\n",
    "#       max: 1.2\n",
    "#     ref:\n",
    "#       dist: norm\n",
    "#       loc: 0.965\n",
    "#       scale: 0.004\n",
    "#     proposal: 0.002\n",
    "#     latex: n_\\mathrm{s}\n",
    "#   theta_MC_100:\n",
    "#     prior:\n",
    "#       min: 0.5\n",
    "#       max: 10\n",
    "#     ref:\n",
    "#       dist: norm\n",
    "#       loc: 1.04109\n",
    "#       scale: 0.0004\n",
    "#     proposal: 0.0002\n",
    "#     latex: 100\\theta_\\mathrm{MC}\n",
    "#     drop: true\n",
    "#     renames: theta\n",
    "#   cosmomc_theta:\n",
    "#     value: 'lambda theta_MC_100: 1.e-2*theta_MC_100'\n",
    "#     derived: false\n",
    "#   H0:\n",
    "#     latex: H_0\n",
    "#     min: 20\n",
    "#     max: 100\n",
    "#   ombh2:\n",
    "#     prior:\n",
    "#       min: 0.005\n",
    "#       max: 0.1\n",
    "#     ref:\n",
    "#       dist: norm\n",
    "#       loc: 0.0224\n",
    "#       scale: 0.0001\n",
    "#     proposal: 0.0001\n",
    "#     latex: \\Omega_\\mathrm{b} h^2\n",
    "#   omch2:\n",
    "#     prior:\n",
    "#       min: 0.001\n",
    "#       max: 0.99\n",
    "#     ref:\n",
    "#       dist: norm\n",
    "#       loc: 0.12\n",
    "#       scale: 0.001\n",
    "#     proposal: 0.0005\n",
    "#     latex: \\Omega_\\mathrm{c} h^2\n",
    "#   omegam:\n",
    "#     latex: \\Omega_\\mathrm{m}\n",
    "#   omegamh2:\n",
    "#     derived: 'lambda omegam, H0: omegam*(H0/100)**2'\n",
    "#     latex: \\Omega_\\mathrm{m} h^2\n",
    "#   mnu: 0.06\n",
    "#   omega_de:\n",
    "#     latex: \\Omega_\\Lambda\n",
    "#   YHe:\n",
    "#     latex: Y_\\mathrm{P}\n",
    "#   Y_p:\n",
    "#     latex: Y_P^\\mathrm{BBN}\n",
    "#   DHBBN:\n",
    "#     derived: 'lambda DH: 10**5*DH'\n",
    "#     latex: 10^5 \\mathrm{D}/\\mathrm{H}\n",
    "#   tau:\n",
    "#     prior:\n",
    "#       min: 0.01\n",
    "#       max: 0.8\n",
    "#     ref:\n",
    "#       dist: norm\n",
    "#       loc: 0.055\n",
    "#       scale: 0.006\n",
    "#     proposal: 0.003\n",
    "#     latex: \\tau_\\mathrm{reio}\n",
    "#   zre:\n",
    "#     latex: z_\\mathrm{re}\n",
    "#   sigma8:\n",
    "#     latex: \\sigma_8\n",
    "#   s8h5:\n",
    "#     derived: 'lambda sigma8, H0: sigma8*(H0*1e-2)**(-0.5)'\n",
    "#     latex: \\sigma_8/h^{0.5}\n",
    "#   s8omegamp5:\n",
    "#     derived: 'lambda sigma8, omegam: sigma8*omegam**0.5'\n",
    "#     latex: \\sigma_8 \\Omega_\\mathrm{m}^{0.5}\n",
    "#   s8omegamp25:\n",
    "#     derived: 'lambda sigma8, omegam: sigma8*omegam**0.25'\n",
    "#     latex: \\sigma_8 \\Omega_\\mathrm{m}^{0.25}\n",
    "#   A:\n",
    "#     derived: 'lambda As: 1e9*As'\n",
    "#     latex: 10^9 A_\\mathrm{s}\n",
    "#   clamp:\n",
    "#     derived: 'lambda As, tau: 1e9*As*np.exp(-2*tau)'\n",
    "#     latex: 10^9 A_\\mathrm{s} e^{-2\\tau}\n",
    "#   age:\n",
    "#     latex: '{\\rm{Age}}/\\mathrm{Gyr}'\n",
    "#   rdrag:\n",
    "#     latex: r_\\mathrm{drag}\n",
    "# sampler:\n",
    "#   mcmc:\n",
    "#     covmat: auto\n",
    "#     drag: true\n",
    "#     oversample_power: 0.4\n",
    "#     proposal_scale: 1.9\n",
    "#     \"\"\")"
   ]
  },
  {
   "cell_type": "code",
   "execution_count": 3,
   "metadata": {},
   "outputs": [],
   "source": [
    "pathInfo = \"/global/cscratch1/sd/eschaan/project_s8/code/cobaya_exploration/input/cobaya/planck18_test.yaml\""
   ]
  },
  {
   "cell_type": "code",
   "execution_count": 4,
   "metadata": {},
   "outputs": [],
   "source": [
    "info = yaml_load_file(pathInfo)"
   ]
  },
  {
   "cell_type": "code",
   "execution_count": 5,
   "metadata": {},
   "outputs": [],
   "source": [
    "# Use 'force' to delete existing output\n",
    "info['force'] = True\n",
    "# Use 'resume' to start from the end of existing output\n",
    "#info['resume'] = True\n",
    "# Use 'debug' to print debug output\n",
    "#info['debug'] = True"
   ]
  },
  {
   "cell_type": "code",
   "execution_count": 6,
   "metadata": {},
   "outputs": [
    {
     "name": "stdout",
     "output_type": "stream",
     "text": [
      "[prior] *WARNING* External prior 'SZ' loaded. Mind that it might not be normalized!\n",
      "[camb] Importing *auto-installed* CAMB (but defaulting to *global*).\n",
      "[camb] Initialized!\n",
      "[clik] Importing *auto-installed* clik (but defaulting to *global*).\n",
      "Cannot use clik wrapper (cause = 'libgfortran.so.5: cannot open shared object file: No such file or directory')\n",
      "Cannot use clik_lensing wrapper (cause = 'libgfortran.so.5: cannot open shared object file: No such file or directory')\n"
     ]
    },
    {
     "ename": "AttributeError",
     "evalue": "module 'clik' has no attribute 'lkl'",
     "output_type": "error",
     "traceback": [
      "\u001b[0;31m---------------------------------------------------------------------------\u001b[0m",
      "\u001b[0;31mAttributeError\u001b[0m                            Traceback (most recent call last)",
      "\u001b[0;32m~/.conda/envs/base3/lib/python3.7/site-packages/cobaya/likelihoods/base_classes/planck_clik.py\u001b[0m in \u001b[0;36minitialize\u001b[0;34m(self)\u001b[0m\n\u001b[1;32m     69\u001b[0m             \u001b[0mself\u001b[0m\u001b[0;34m.\u001b[0m\u001b[0mclik\u001b[0m \u001b[0;34m=\u001b[0m \u001b[0mclik\u001b[0m\u001b[0;34m.\u001b[0m\u001b[0mclik_lensing\u001b[0m\u001b[0;34m(\u001b[0m\u001b[0mself\u001b[0m\u001b[0;34m.\u001b[0m\u001b[0mclik_file\u001b[0m\u001b[0;34m)\u001b[0m \u001b[0;32mif\u001b[0m \u001b[0mself\u001b[0m\u001b[0;34m.\u001b[0m\u001b[0mlensing\u001b[0m\u001b[0;31m \u001b[0m\u001b[0;31m\\\u001b[0m\u001b[0;34m\u001b[0m\u001b[0;34m\u001b[0m\u001b[0m\n\u001b[0;32m---> 70\u001b[0;31m                 \u001b[0;32melse\u001b[0m \u001b[0mclik\u001b[0m\u001b[0;34m.\u001b[0m\u001b[0mclik\u001b[0m\u001b[0;34m(\u001b[0m\u001b[0mself\u001b[0m\u001b[0;34m.\u001b[0m\u001b[0mclik_file\u001b[0m\u001b[0;34m)\u001b[0m\u001b[0;34m\u001b[0m\u001b[0;34m\u001b[0m\u001b[0m\n\u001b[0m\u001b[1;32m     71\u001b[0m         \u001b[0;32mexcept\u001b[0m \u001b[0mclik\u001b[0m\u001b[0;34m.\u001b[0m\u001b[0mlkl\u001b[0m\u001b[0;34m.\u001b[0m\u001b[0mCError\u001b[0m\u001b[0;34m:\u001b[0m\u001b[0;34m\u001b[0m\u001b[0;34m\u001b[0m\u001b[0m\n",
      "\u001b[0;31mAttributeError\u001b[0m: module 'clik' has no attribute 'clik'",
      "\nDuring handling of the above exception, another exception occurred:\n",
      "\u001b[0;31mAttributeError\u001b[0m                            Traceback (most recent call last)",
      "\u001b[0;32m<ipython-input-6-676c019c4c2e>\u001b[0m in \u001b[0;36m<module>\u001b[0;34m\u001b[0m\n\u001b[1;32m      1\u001b[0m \u001b[0;31m# run the sampling\u001b[0m\u001b[0;34m\u001b[0m\u001b[0;34m\u001b[0m\u001b[0;34m\u001b[0m\u001b[0m\n\u001b[0;32m----> 2\u001b[0;31m \u001b[0mupdated_info\u001b[0m\u001b[0;34m,\u001b[0m \u001b[0msampler\u001b[0m \u001b[0;34m=\u001b[0m \u001b[0mcobayaRun\u001b[0m\u001b[0;34m(\u001b[0m\u001b[0minfo\u001b[0m\u001b[0;34m)\u001b[0m\u001b[0;34m\u001b[0m\u001b[0;34m\u001b[0m\u001b[0m\n\u001b[0m",
      "\u001b[0;32m~/.conda/envs/base3/lib/python3.7/site-packages/cobaya/run.py\u001b[0m in \u001b[0;36mrun\u001b[0;34m(info)\u001b[0m\n\u001b[1;32m     88\u001b[0m                \u001b[0mupdated_info\u001b[0m\u001b[0;34m.\u001b[0m\u001b[0mget\u001b[0m\u001b[0;34m(\u001b[0m\u001b[0m_prior\u001b[0m\u001b[0;34m)\u001b[0m\u001b[0;34m,\u001b[0m \u001b[0mupdated_info\u001b[0m\u001b[0;34m.\u001b[0m\u001b[0mget\u001b[0m\u001b[0;34m(\u001b[0m\u001b[0mkinds\u001b[0m\u001b[0;34m.\u001b[0m\u001b[0mtheory\u001b[0m\u001b[0;34m)\u001b[0m\u001b[0;34m,\u001b[0m\u001b[0;34m\u001b[0m\u001b[0;34m\u001b[0m\u001b[0m\n\u001b[1;32m     89\u001b[0m                \u001b[0mpackages_path\u001b[0m\u001b[0;34m=\u001b[0m\u001b[0minfo\u001b[0m\u001b[0;34m.\u001b[0m\u001b[0mget\u001b[0m\u001b[0;34m(\u001b[0m\u001b[0m_packages_path\u001b[0m\u001b[0;34m)\u001b[0m\u001b[0;34m,\u001b[0m \u001b[0mtiming\u001b[0m\u001b[0;34m=\u001b[0m\u001b[0mupdated_info\u001b[0m\u001b[0;34m.\u001b[0m\u001b[0mget\u001b[0m\u001b[0;34m(\u001b[0m\u001b[0m_timing\u001b[0m\u001b[0;34m)\u001b[0m\u001b[0;34m,\u001b[0m\u001b[0;34m\u001b[0m\u001b[0;34m\u001b[0m\u001b[0m\n\u001b[0;32m---> 90\u001b[0;31m                allow_renames=False, stop_at_error=info.get(\"stop_at_error\", False)) \\\n\u001b[0m\u001b[1;32m     91\u001b[0m             \u001b[0;32mas\u001b[0m \u001b[0mmodel\u001b[0m\u001b[0;34m:\u001b[0m\u001b[0;34m\u001b[0m\u001b[0;34m\u001b[0m\u001b[0m\n\u001b[1;32m     92\u001b[0m         \u001b[0;31m# Re-dump the updated info, now containing parameter routes and version info\u001b[0m\u001b[0;34m\u001b[0m\u001b[0;34m\u001b[0m\u001b[0;34m\u001b[0m\u001b[0m\n",
      "\u001b[0;32m~/.conda/envs/base3/lib/python3.7/site-packages/cobaya/model.py\u001b[0m in \u001b[0;36m__init__\u001b[0;34m(self, info_params, info_likelihood, info_prior, info_theory, packages_path, timing, allow_renames, stop_at_error, post, prior_parameterization)\u001b[0m\n\u001b[1;32m    150\u001b[0m         \u001b[0minfo_likelihood\u001b[0m \u001b[0;34m=\u001b[0m \u001b[0mself\u001b[0m\u001b[0;34m.\u001b[0m\u001b[0m_updated_info\u001b[0m\u001b[0;34m[\u001b[0m\u001b[0mkinds\u001b[0m\u001b[0;34m.\u001b[0m\u001b[0mlikelihood\u001b[0m\u001b[0;34m]\u001b[0m\u001b[0;34m\u001b[0m\u001b[0;34m\u001b[0m\u001b[0m\n\u001b[1;32m    151\u001b[0m         self.likelihood = LikelihoodCollection(info_likelihood, theory=self.theory,\n\u001b[0;32m--> 152\u001b[0;31m                                                packages_path=packages_path, timing=timing)\n\u001b[0m\u001b[1;32m    153\u001b[0m         \u001b[0;32mif\u001b[0m \u001b[0mstop_at_error\u001b[0m\u001b[0;34m:\u001b[0m\u001b[0;34m\u001b[0m\u001b[0;34m\u001b[0m\u001b[0m\n\u001b[1;32m    154\u001b[0m             \u001b[0;32mfor\u001b[0m \u001b[0mcomponent\u001b[0m \u001b[0;32min\u001b[0m \u001b[0mself\u001b[0m\u001b[0;34m.\u001b[0m\u001b[0mcomponents\u001b[0m\u001b[0;34m:\u001b[0m\u001b[0;34m\u001b[0m\u001b[0;34m\u001b[0m\u001b[0m\n",
      "\u001b[0;32m~/.conda/envs/base3/lib/python3.7/site-packages/cobaya/likelihood.py\u001b[0m in \u001b[0;36m__init__\u001b[0;34m(self, info_likelihood, packages_path, timing, theory)\u001b[0m\n\u001b[1;32m    279\u001b[0m                 self.add_instance(name, like_class(info, packages_path=packages_path,\n\u001b[1;32m    280\u001b[0m                                                    \u001b[0mtiming\u001b[0m\u001b[0;34m=\u001b[0m\u001b[0mtiming\u001b[0m\u001b[0;34m,\u001b[0m \u001b[0mstandalone\u001b[0m\u001b[0;34m=\u001b[0m\u001b[0;32mFalse\u001b[0m\u001b[0;34m,\u001b[0m\u001b[0;34m\u001b[0m\u001b[0;34m\u001b[0m\u001b[0m\n\u001b[0;32m--> 281\u001b[0;31m                                                    name=name))\n\u001b[0m\u001b[1;32m    282\u001b[0m \u001b[0;34m\u001b[0m\u001b[0m\n\u001b[1;32m    283\u001b[0m             \u001b[0;32mif\u001b[0m \u001b[0;32mnot\u001b[0m \u001b[0mis_LikelihoodInterface\u001b[0m\u001b[0;34m(\u001b[0m\u001b[0mself\u001b[0m\u001b[0;34m[\u001b[0m\u001b[0mname\u001b[0m\u001b[0;34m]\u001b[0m\u001b[0;34m)\u001b[0m\u001b[0;34m:\u001b[0m\u001b[0;34m\u001b[0m\u001b[0;34m\u001b[0m\u001b[0m\n",
      "\u001b[0;32m~/.conda/envs/base3/lib/python3.7/site-packages/cobaya/likelihood.py\u001b[0m in \u001b[0;36m__init__\u001b[0;34m(self, info, name, timing, packages_path, initialize, standalone)\u001b[0m\n\u001b[1;32m     83\u001b[0m         super().__init__(info, name=name, timing=timing,\n\u001b[1;32m     84\u001b[0m                          \u001b[0mpackages_path\u001b[0m\u001b[0;34m=\u001b[0m\u001b[0mpackages_path\u001b[0m\u001b[0;34m,\u001b[0m \u001b[0minitialize\u001b[0m\u001b[0;34m=\u001b[0m\u001b[0minitialize\u001b[0m\u001b[0;34m,\u001b[0m\u001b[0;34m\u001b[0m\u001b[0;34m\u001b[0m\u001b[0m\n\u001b[0;32m---> 85\u001b[0;31m                          standalone=standalone)\n\u001b[0m\u001b[1;32m     86\u001b[0m         \u001b[0;31m# Make sure `types` is a list of data types, for aggregated chi2\u001b[0m\u001b[0;34m\u001b[0m\u001b[0;34m\u001b[0m\u001b[0;34m\u001b[0m\u001b[0m\n\u001b[1;32m     87\u001b[0m         \u001b[0mself\u001b[0m\u001b[0;34m.\u001b[0m\u001b[0mtype\u001b[0m \u001b[0;34m=\u001b[0m \u001b[0mstr_to_list\u001b[0m\u001b[0;34m(\u001b[0m\u001b[0mgetattr\u001b[0m\u001b[0;34m(\u001b[0m\u001b[0mself\u001b[0m\u001b[0;34m,\u001b[0m \u001b[0;34m\"type\"\u001b[0m\u001b[0;34m,\u001b[0m \u001b[0;34m[\u001b[0m\u001b[0;34m]\u001b[0m\u001b[0;34m)\u001b[0m \u001b[0;32mor\u001b[0m \u001b[0;34m[\u001b[0m\u001b[0;34m]\u001b[0m\u001b[0;34m)\u001b[0m\u001b[0;34m\u001b[0m\u001b[0;34m\u001b[0m\u001b[0m\n",
      "\u001b[0;32m~/.conda/envs/base3/lib/python3.7/site-packages/cobaya/theory.py\u001b[0m in \u001b[0;36m__init__\u001b[0;34m(self, info, name, timing, packages_path, initialize, standalone)\u001b[0m\n\u001b[1;32m     61\u001b[0m         super().__init__(info, name=name, timing=timing,\n\u001b[1;32m     62\u001b[0m                          \u001b[0mpackages_path\u001b[0m\u001b[0;34m=\u001b[0m\u001b[0mpackages_path\u001b[0m\u001b[0;34m,\u001b[0m \u001b[0minitialize\u001b[0m\u001b[0;34m=\u001b[0m\u001b[0minitialize\u001b[0m\u001b[0;34m,\u001b[0m\u001b[0;34m\u001b[0m\u001b[0;34m\u001b[0m\u001b[0m\n\u001b[0;32m---> 63\u001b[0;31m                          standalone=standalone)\n\u001b[0m\u001b[1;32m     64\u001b[0m \u001b[0;34m\u001b[0m\u001b[0m\n\u001b[1;32m     65\u001b[0m         \u001b[0mself\u001b[0m\u001b[0;34m.\u001b[0m\u001b[0mprovider\u001b[0m \u001b[0;34m=\u001b[0m \u001b[0;32mNone\u001b[0m  \u001b[0;31m# set to Provider instance before calculations\u001b[0m\u001b[0;34m\u001b[0m\u001b[0;34m\u001b[0m\u001b[0m\n",
      "\u001b[0;32m~/.conda/envs/base3/lib/python3.7/site-packages/cobaya/component.py\u001b[0m in \u001b[0;36m__init__\u001b[0;34m(self, info, name, timing, packages_path, initialize, standalone)\u001b[0m\n\u001b[1;32m     90\u001b[0m         \u001b[0;32mtry\u001b[0m\u001b[0;34m:\u001b[0m\u001b[0;34m\u001b[0m\u001b[0;34m\u001b[0m\u001b[0m\n\u001b[1;32m     91\u001b[0m             \u001b[0;32mif\u001b[0m \u001b[0minitialize\u001b[0m\u001b[0;34m:\u001b[0m\u001b[0;34m\u001b[0m\u001b[0;34m\u001b[0m\u001b[0m\n\u001b[0;32m---> 92\u001b[0;31m                 \u001b[0mself\u001b[0m\u001b[0;34m.\u001b[0m\u001b[0minitialize\u001b[0m\u001b[0;34m(\u001b[0m\u001b[0;34m)\u001b[0m\u001b[0;34m\u001b[0m\u001b[0;34m\u001b[0m\u001b[0m\n\u001b[0m\u001b[1;32m     93\u001b[0m         \u001b[0;32mexcept\u001b[0m \u001b[0mAttributeError\u001b[0m \u001b[0;32mas\u001b[0m \u001b[0me\u001b[0m\u001b[0;34m:\u001b[0m\u001b[0;34m\u001b[0m\u001b[0;34m\u001b[0m\u001b[0m\n\u001b[1;32m     94\u001b[0m             \u001b[0;32mif\u001b[0m \u001b[0;34m'_params'\u001b[0m \u001b[0;32min\u001b[0m \u001b[0mstr\u001b[0m\u001b[0;34m(\u001b[0m\u001b[0me\u001b[0m\u001b[0;34m)\u001b[0m\u001b[0;34m:\u001b[0m\u001b[0;34m\u001b[0m\u001b[0;34m\u001b[0m\u001b[0m\n",
      "\u001b[0;32m~/.conda/envs/base3/lib/python3.7/site-packages/cobaya/likelihoods/base_classes/planck_clik.py\u001b[0m in \u001b[0;36minitialize\u001b[0;34m(self)\u001b[0m\n\u001b[1;32m     69\u001b[0m             \u001b[0mself\u001b[0m\u001b[0;34m.\u001b[0m\u001b[0mclik\u001b[0m \u001b[0;34m=\u001b[0m \u001b[0mclik\u001b[0m\u001b[0;34m.\u001b[0m\u001b[0mclik_lensing\u001b[0m\u001b[0;34m(\u001b[0m\u001b[0mself\u001b[0m\u001b[0;34m.\u001b[0m\u001b[0mclik_file\u001b[0m\u001b[0;34m)\u001b[0m \u001b[0;32mif\u001b[0m \u001b[0mself\u001b[0m\u001b[0;34m.\u001b[0m\u001b[0mlensing\u001b[0m\u001b[0;31m \u001b[0m\u001b[0;31m\\\u001b[0m\u001b[0;34m\u001b[0m\u001b[0;34m\u001b[0m\u001b[0m\n\u001b[1;32m     70\u001b[0m                 \u001b[0;32melse\u001b[0m \u001b[0mclik\u001b[0m\u001b[0;34m.\u001b[0m\u001b[0mclik\u001b[0m\u001b[0;34m(\u001b[0m\u001b[0mself\u001b[0m\u001b[0;34m.\u001b[0m\u001b[0mclik_file\u001b[0m\u001b[0;34m)\u001b[0m\u001b[0;34m\u001b[0m\u001b[0;34m\u001b[0m\u001b[0m\n\u001b[0;32m---> 71\u001b[0;31m         \u001b[0;32mexcept\u001b[0m \u001b[0mclik\u001b[0m\u001b[0;34m.\u001b[0m\u001b[0mlkl\u001b[0m\u001b[0;34m.\u001b[0m\u001b[0mCError\u001b[0m\u001b[0;34m:\u001b[0m\u001b[0;34m\u001b[0m\u001b[0;34m\u001b[0m\u001b[0m\n\u001b[0m\u001b[1;32m     72\u001b[0m             \u001b[0;31m# Is it that the file was not found?\u001b[0m\u001b[0;34m\u001b[0m\u001b[0;34m\u001b[0m\u001b[0;34m\u001b[0m\u001b[0m\n\u001b[1;32m     73\u001b[0m             \u001b[0;32mif\u001b[0m \u001b[0;32mnot\u001b[0m \u001b[0mos\u001b[0m\u001b[0;34m.\u001b[0m\u001b[0mpath\u001b[0m\u001b[0;34m.\u001b[0m\u001b[0mexists\u001b[0m\u001b[0;34m(\u001b[0m\u001b[0mself\u001b[0m\u001b[0;34m.\u001b[0m\u001b[0mclik_file\u001b[0m\u001b[0;34m)\u001b[0m\u001b[0;34m:\u001b[0m\u001b[0;34m\u001b[0m\u001b[0;34m\u001b[0m\u001b[0m\n",
      "\u001b[0;31mAttributeError\u001b[0m: module 'clik' has no attribute 'lkl'"
     ]
    }
   ],
   "source": [
    "# run the sampling\n",
    "updated_info, sampler = cobayaRun(info)"
   ]
  },
  {
   "cell_type": "code",
   "execution_count": null,
   "metadata": {},
   "outputs": [],
   "source": [
    "# Analyze the MCMC chains\n",
    "gd_sample = MCSamplesFromCobaya(updated_info, sampler.products()[\"sample\"])\n",
    "mean = gd_sample.getMeans()[:2]\n",
    "covmat = gd_sample.getCovMat().matrix[:2, :2]\n",
    "print(\"Mean:\")\n",
    "print(mean)\n",
    "print(\"Covariance matrix:\")\n",
    "print(covmat)\n",
    "\n",
    "# Generate the triangle plot\n",
    "gdplot = gdplt.get_subplot_plotter()\n",
    "gdplot.triangle_plot(gd_sample, [\"a\", \"b\"], filled=True)\n",
    "plt.show()"
   ]
  },
  {
   "cell_type": "code",
   "execution_count": null,
   "metadata": {},
   "outputs": [],
   "source": []
  },
  {
   "cell_type": "code",
   "execution_count": null,
   "metadata": {},
   "outputs": [],
   "source": []
  },
  {
   "cell_type": "code",
   "execution_count": null,
   "metadata": {},
   "outputs": [],
   "source": []
  },
  {
   "cell_type": "code",
   "execution_count": null,
   "metadata": {},
   "outputs": [],
   "source": []
  },
  {
   "cell_type": "code",
   "execution_count": null,
   "metadata": {},
   "outputs": [],
   "source": []
  },
  {
   "cell_type": "code",
   "execution_count": null,
   "metadata": {},
   "outputs": [],
   "source": []
  }
 ],
 "metadata": {
  "kernelspec": {
   "display_name": "Base3",
   "language": "python",
   "name": "base3"
  },
  "language_info": {
   "codemirror_mode": {
    "name": "ipython",
    "version": 3
   },
   "file_extension": ".py",
   "mimetype": "text/x-python",
   "name": "python",
   "nbconvert_exporter": "python",
   "pygments_lexer": "ipython3",
   "version": "3.7.10"
  }
 },
 "nbformat": 4,
 "nbformat_minor": 4
}
