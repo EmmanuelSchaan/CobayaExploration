{
 "cells": [
  {
   "cell_type": "code",
   "execution_count": 39,
   "metadata": {},
   "outputs": [],
   "source": [
    "# to read cobaya input files\n",
    "from cobaya.yaml import yaml_load_file\n",
    "\n",
    "# to run the sampler/minimizer\n",
    "from cobaya.run import run as cobayaRun\n",
    "\n",
    "# to load MCMC chains\n",
    "from getdist import loadMCSamples\n",
    "\n",
    "# to analyze the chains\n",
    "# from getdist.mcsamples import MCSamplesFromCobaya\n",
    "%matplotlib inline\n",
    "import matplotlib.pyplot as plt\n",
    "import getdist.plots as gdplt\n",
    "\n",
    "import sys"
   ]
  },
  {
   "cell_type": "markdown",
   "metadata": {},
   "source": [
    "# Load the Planck samples"
   ]
  },
  {
   "cell_type": "code",
   "execution_count": 43,
   "metadata": {},
   "outputs": [],
   "source": [
    "pathDir = \"../../data/planck_chains_2018/COM_CosmoParams_fullGrid_R3.01/\"\n",
    "runParams = \"base\"\n",
    "runData = \"plikHM_TTTEEE_lowl_lowE\"\n",
    "\n",
    "runPath = pathDir + runParams + \"/\" + runData + \"/base_\" + runData\n",
    "\n",
    "\n",
    "# pathMinimum = runPath + \".minimum\"\n",
    "# pathParamName = runPath + \".paramname\"\n",
    "# pathSamples1 = runPath + \"_1.txt\""
   ]
  },
  {
   "cell_type": "code",
   "execution_count": 36,
   "metadata": {},
   "outputs": [],
   "source": [
    "samplesPlanck = loadMCSamples(runPath)"
   ]
  },
  {
   "cell_type": "markdown",
   "metadata": {},
   "source": [
    "# Explore what can be output from the samples"
   ]
  },
  {
   "cell_type": "code",
   "execution_count": 72,
   "metadata": {},
   "outputs": [
    {
     "data": {
      "text/plain": [
       "((0.28432628017159195, 0.35043421982840806),\n",
       " (0.7825730836034318, 0.8418888163965682))"
      ]
     },
     "execution_count": 72,
     "metadata": {},
     "output_type": "execute_result"
    },
    {
     "data": {
      "image/png": "[encoded data removed]",
      "text/plain": [
       "<Figure size 432x324 with 1 Axes>"
      ]
     },
     "metadata": {
      "needs_background": "light"
     },
     "output_type": "display_data"
    }
   ],
   "source": [
    "from getdist import plots\n",
    "g = plots.get_single_plotter()\n",
    "g.plot_2d(samplesPlanck, ['omegam', 'sigma8'])"
   ]
  },
  {
   "cell_type": "markdown",
   "metadata": {},
   "source": [
    "Get the list of parameters"
   ]
  },
  {
   "cell_type": "code",
   "execution_count": 75,
   "metadata": {},
   "outputs": [],
   "source": [
    "parNames = samplesPlanck.getParamNames()\n",
    "# print(parNames)"
   ]
  },
  {
   "cell_type": "markdown",
   "metadata": {},
   "source": [
    "Look at one of the parameters"
   ]
  },
  {
   "cell_type": "code",
   "execution_count": 97,
   "metadata": {},
   "outputs": [],
   "source": [
    "iPar = 0"
   ]
  },
  {
   "cell_type": "code",
   "execution_count": 98,
   "metadata": {},
   "outputs": [
    {
     "name": "stdout",
     "output_type": "stream",
     "text": [
      "name: omegabh2\n",
      "label: \\Omega_b h^2\n",
      "isDerived: False\n",
      "comment: \n",
      "number: None\n"
     ]
    }
   ],
   "source": [
    "print(\"name: \" + parNames.names[iPar].name)\n",
    "print(\"label: \" + parNames.names[iPar].label)\n",
    "print(\"isDerived: \" + str(parNames.names[iPar].isDerived))\n",
    "print(\"comment: \" + parNames.names[iPar].comment)\n",
    "print(\"number: \" + str(parNames.names[iPar].number))"
   ]
  },
  {
   "cell_type": "markdown",
   "metadata": {},
   "source": [
    "Get some relevant info about the parameter considered"
   ]
  },
  {
   "cell_type": "code",
   "execution_count": 100,
   "metadata": {},
   "outputs": [
    {
     "name": "stdout",
     "output_type": "stream",
     "text": [
      "Mean: [0.02235975]\n"
     ]
    }
   ],
   "source": [
    "print(\"Mean: \" + str(samplesPlanck.getMeans([iPar])))"
   ]
  },
  {
   "cell_type": "code",
   "execution_count": 103,
   "metadata": {},
   "outputs": [],
   "source": [
    "print(\"Hard lower bound: \" + str(samplesPlanck.getLower(parNames.names[iPar].name)))\n",
    "print(\"Hard upper bound: \" + str(samplesPlanck.getUpper(parNames.names[iPar].name)))"
   ]
  },
  {
   "cell_type": "code",
   "execution_count": 110,
   "metadata": {},
   "outputs": [
    {
     "data": {
      "text/plain": [
       "'\\\\Omega_b h^2 = 0.02236\\\\pm 0.00015'"
      ]
     },
     "execution_count": 110,
     "metadata": {},
     "output_type": "execute_result"
    }
   ],
   "source": [
    "# maxLike = samplesPlanck.getBestFit(max_posterior=False)\n",
    "maxPost = samplesPlanck.getBestFit(max_posterior=True)\n",
    "margeStats = samplesPlanck.getMargeStats(include_bestfit=True)\n",
    "likeStats = samplesPlanck.getLikeStats()\n",
    "table = samplesPlanck.getTable(columns=1, include_bestfit=False)\n",
    "latex = samplesPlanck.getLatex(params=None, limit=1, err_sig_figs=None)\n",
    "samplesPlanck.getInlineLatex(parNames.names[iPar].name, limit=1, err_sig_figs=None)"
   ]
  },
  {
   "cell_type": "markdown",
   "metadata": {},
   "source": [
    "# Load the DES samples"
   ]
  },
  {
   "cell_type": "code",
   "execution_count": 44,
   "metadata": {},
   "outputs": [],
   "source": [
    "runParams = \"base\"\n",
    "runData = \"DES_DESpriors\"\n",
    "\n",
    "runPath = pathDir + runParams + \"/\" + runData + \"/base_\" + runData"
   ]
  },
  {
   "cell_type": "code",
   "execution_count": 45,
   "metadata": {},
   "outputs": [],
   "source": [
    "samplesDES = loadMCSamples(runPath)"
   ]
  },
  {
   "cell_type": "code",
   "execution_count": 52,
   "metadata": {},
   "outputs": [],
   "source": [
    "# loadMCSamples?"
   ]
  },
  {
   "cell_type": "markdown",
   "metadata": {},
   "source": [
    "# Take a look!"
   ]
  },
  {
   "cell_type": "code",
   "execution_count": 54,
   "metadata": {},
   "outputs": [],
   "source": [
    "# from getdist import plots\n",
    "# g = plots.get_single_plotter()\n",
    "# g.plot_2d(samplesDES, ['omegam', 'sigma8'])"
   ]
  },
  {
   "cell_type": "code",
   "execution_count": 51,
   "metadata": {},
   "outputs": [
    {
     "data": {
      "text/plain": [
       "<matplotlib.legend.Legend at 0x2aaae1888950>"
      ]
     },
     "execution_count": 51,
     "metadata": {},
     "output_type": "execute_result"
    },
    {
     "data": {
      "image/png": "[encoded data removed]",
      "text/plain": [
       "<Figure size 432x324 with 1 Axes>"
      ]
     },
     "metadata": {
      "needs_background": "light"
     },
     "output_type": "display_data"
    }
   ],
   "source": [
    "from getdist import plots\n",
    "g = plots.get_single_plotter()\n",
    "g.plot_2d([samplesPlanck, samplesDES], ['omegam', 'sigma8'], filled=True)\n",
    "g.add_legend(['Planck', 'DES'], colored_text=True)\n",
    "# g.export('output_file.pdf')"
   ]
  },
  {
   "cell_type": "code",
   "execution_count": 61,
   "metadata": {},
   "outputs": [
    {
     "data": {
      "text/plain": [
       "<matplotlib.legend.Legend at 0x2aaae15429d0>"
      ]
     },
     "execution_count": 61,
     "metadata": {},
     "output_type": "execute_result"
    },
    {
     "data": {
      "image/png": "[encoded data removed]",
      "text/plain": [
       "<Figure size 288x216 with 1 Axes>"
      ]
     },
     "metadata": {
      "needs_background": "light"
     },
     "output_type": "display_data"
    },
    {
     "data": {
      "image/png": "[encoded data removed]",
      "text/plain": [
       "<Figure size 288x216 with 1 Axes>"
      ]
     },
     "metadata": {
      "needs_background": "light"
     },
     "output_type": "display_data"
    }
   ],
   "source": [
    "# Show the Omega_m tension\n",
    "g = plots.get_single_plotter(width_inch=4)\n",
    "g.plot_1d([samplesPlanck, samplesDES], 'omegam', normalized=False)\n",
    "# g.add_legend(['Planck', 'DES'], colored_text=False, legend_loc='upper right')\n",
    "g.add_legend(['Planck', 'DES'], colored_text=True, legend_loc='upper right')\n",
    "\n",
    "# sigma_8 is consistent \n",
    "g = plots.get_single_plotter(width_inch=4)\n",
    "g.plot_1d([samplesPlanck, samplesDES], 'sigma8', normalized=False)\n",
    "g.add_legend(['Planck', 'DES'], colored_text=True, legend_loc='upper right')"
   ]
  },
  {
   "cell_type": "markdown",
   "metadata": {},
   "source": [
    "# Assess the $\\Omega_m$ tension"
   ]
  },
  {
   "cell_type": "code",
   "execution_count": 63,
   "metadata": {},
   "outputs": [
    {
     "name": "stdout",
     "output_type": "stream",
     "text": [
      "From Planck:\n",
      "\\Omega_m = 0.3166\\pm 0.0084\n",
      "From DES:\n",
      "\\Omega_m = 0.256^{+0.023}_{-0.031}\n"
     ]
    }
   ],
   "source": [
    "# Default limits are 1: 68%, 2: 95%, 3: 99% probability enclosed\n",
    "# See  https://getdist.readthedocs.io/en/latest/analysis_settings.html\n",
    "# and examples for below for changing analysis settings \n",
    "# (e.g. 2hidh limits, and how they are defined)\n",
    "\n",
    "print(\"From Planck:\")\n",
    "print(samplesPlanck.getInlineLatex('omegam',limit=1))\n",
    "\n",
    "print(\"From DES:\")\n",
    "print(samplesDES.getInlineLatex('omegam',limit=1))"
   ]
  },
  {
   "cell_type": "markdown",
   "metadata": {},
   "source": [
    "# Select only the samples with low $\\Omega_m$"
   ]
  },
  {
   "cell_type": "code",
   "execution_count": null,
   "metadata": {},
   "outputs": [],
   "source": [
    "# Example of how to handle boundaries (samples are restricted to x0 >-0.5)\n",
    "cut_samps = samps[samps[:,0]>-0.5,:]\n",
    "cut_samples = MCSamples(samples=cut_samps, names = names, labels = labels, \n",
    "                        ranges={'x0':(-0.5, None)}, label='Cut samples')"
   ]
  }
 ],
 "metadata": {
  "kernelspec": {
   "display_name": "Base3",
   "language": "python",
   "name": "base3"
  },
  "language_info": {
   "codemirror_mode": {
    "name": "ipython",
    "version": 3
   },
   "file_extension": ".py",
   "mimetype": "text/x-python",
   "name": "python",
   "nbconvert_exporter": "python",
   "pygments_lexer": "ipython3",
   "version": "3.7.10"
  }
 },
 "nbformat": 4,
 "nbformat_minor": 4
}
